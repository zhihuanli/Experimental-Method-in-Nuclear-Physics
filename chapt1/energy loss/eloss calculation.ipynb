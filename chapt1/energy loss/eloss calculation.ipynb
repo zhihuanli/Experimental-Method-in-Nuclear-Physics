{
 "cells": [
  {
   "cell_type": "markdown",
   "metadata": {},
   "source": [
    "## 带电粒子能量损失(射程)计算\n",
    "\n",
    "### LISE++ \n",
    "* LISE++ 是计算放射性束流线中次级带电粒子碎片生成、传输的工具包，内部还集成了很多核物理实验和计算中用到的计算程序。\n",
    "* LISE++ 安装 [下载链接](http://lise.nscl.msu.edu/download/)\n",
    "* LISE++ 界面 ![](LISE.png)\n",
    "* 获得dE/dx-dE数据步骤：\n",
    "  * 从菜单栏中进入dE/dx vs E 选项卡\n",
    "    ![](step1.png)\n",
    "  * 设定注入粒子(Projectile)和靶材料(Material)，单位选择micron(um).\n",
    "    ![](step2.png)\n",
    "    \n"
   ]
  },
  {
   "cell_type": "markdown",
   "metadata": {},
   "source": [
    "  * 靶材料选择界面：\n",
    "    ![](lisecom.png)\n",
    "    - 靶为单质\n",
    "      -  选择同位素和状态(气态，固态)\n",
    "    - 靶为化合物或混合物\n",
    "      - 上图中选择左下方Compound dictionary. \n",
    "       - 将材料按照分类列在不同的种类中。\n",
    "       - 选择下拉栏中合适材料,比如water liquid。\n",
    "      ![](lisecom1.png)\n",
    "       - 点击右侧Input按钮，导入靶材料。\n",
    "      ![](lisecom2.png)\n",
    "      \n",
    "      \n",
    "  * 点击 OK 即可获得能损曲线。在我们感兴趣的能量范围0.1MeV-1000MeV内，几条模型给出的曲线结果基本一致。\n",
    "  \n",
    "    ![](step3.png)\n",
    "  * 按左侧边栏图标可以改变图形显示方式，点击Save As 图标保存数据文件。\n",
    "    ![](step4.3.png)\n",
    "  * 最终获得数据文件如下：[示例数据文件](datalise.txt)\n",
    "    ![](step5.png)\n",
    "  * 用Excel打开，选择相应数据\n",
    "    - 9-10列：模型4，电子能量损失本领\n",
    "    - 11-12列：模型5，核能量损失本领\n",
    "    \n"
   ]
  },
  {
   "cell_type": "markdown",
   "metadata": {},
   "source": [
    "### SRIM：\n",
    "* SRIM 软件用于计算带电粒子在材料中的射程，同时也给出相应能量下的dE/dx数值。dE/dx计算结果与LISE++计算中的曲线4和5对应。\n",
    "* [SRIM官网](http://www.srim.org)\n",
    "* SRIM有两个版本，SRIM2008和SRIM2013，直接安装SRIM2013会提示系统库缺失。正确做法为先安装SRIM2008，随后卸载(卸载过程中提示是否移除相关组件，选否)。然后安装SRIM2013。注意：官网下载由于安全考虑，将exe后缀修改为了e后缀，需手动修改方可安装。\n",
    "* SRIM界面\n",
    "  ![](SRIM.png)\n",
    "* 获得dE/dx-dE数据步骤：\n",
    "  * 进入Stoping Range Table选项卡\n",
    "  ![](SR.png)\n",
    "  * 设定注入离子和靶材料。点击PT可进入元素周期表选择，可手动修改Mass(amu)以修改默认同位素，可修改注入粒子能量区间。\n",
    "  ![](SR1.png)\n",
    "  * 点击Calculate Table，获得数据文件.[示例数据文件](datasrim.txt)\n",
    "  ![](datasrim.png)\n",
    " "
   ]
  },
  {
   "cell_type": "markdown",
   "metadata": {},
   "source": [
    "# 在软件中将靶材料设定为化合物\n",
    "\n",
    "## SRIM 靶材设定为化合物\n",
    "比如，设定靶材为水，即$\\rm{H_2O}$. \n",
    "![](compound.png)\n",
    "点击添加元素，分别添加组成化合物的各元素。Stoich为原子个数比。添加完毕后，需手动调整Target的密度选项。我们设定靶材为$\\rm{H_2O}$,因此将密度修改为$1\\rm{g/cm^3}$\n",
    "\n",
    "随后获得数据文件\n",
    "```txt\n",
    "        Ion        dE/dx      dE/dx     Projected  Longitudinal   Lateral\n",
    "       Energy      Elec.      Nuclear     Range     Straggling   Straggling\n",
    "  --------------  ---------- ---------- ----------  ----------  ----------\n",
    "  10.00 keV   4.556E+01  8.659E-01    2507 A       651 A       678 A   \n",
    "  11.00 keV   4.766E+01  8.096E-01    2698 A       670 A       707 A   \n",
    "  12.00 keV   4.965E+01  7.610E-01    2882 A       688 A       733 A   \n",
    "  13.00 keV   5.154E+01  7.185E-01    3061 A       703 A       757 A   \n",
    "  14.00 keV   5.334E+01  6.810E-01    3235 A       718 A       780 A   \n",
    "  15.00 keV   5.506E+01  6.476E-01    3404 A       731 A       801 A   \n",
    "  16.00 keV   5.670E+01  6.178E-01    3570 A       743 A       821 A   \n",
    "  17.00 keV   5.828E+01  5.908E-01    3731 A       754 A       840 A   \n",
    "```\n",
    "第一列为注入能量，第二列为电磁作用能损本领，第三列为核阻止本领，两者相加即为dE，第四列为阻停距离。这四列即为我们需要的数据。\n",
    "\n"
   ]
  },
  {
   "cell_type": "markdown",
   "metadata": {},
   "source": [
    "## Tips\n",
    "1. 上述两个软件的能量点的间隔是软件设定的，用户不能更改。其他点的dE/dx应通过已知数据点的内插得到，或用公式对已知数据点进行拟合，再利用公式计算其他能量点的dE/dx 数字。参见coursework1中 TGraph 的Eval 函数说明。\n",
    "\n"
   ]
  },
  {
   "cell_type": "code",
   "execution_count": null,
   "metadata": {},
   "outputs": [],
   "source": []
  }
 ],
 "metadata": {
  "kernelspec": {
   "display_name": "ROOT C++",
   "language": "c++",
   "name": "root"
  },
  "language_info": {
   "codemirror_mode": "text/x-c++src",
   "file_extension": ".C",
   "mimetype": " text/x-c++src",
   "name": "c++"
  }
 },
 "nbformat": 4,
 "nbformat_minor": 2
}
