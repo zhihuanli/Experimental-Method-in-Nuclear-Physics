{
 "cells": [
  {
   "cell_type": "markdown",
   "metadata": {},
   "source": [
    "### 作业 2.2 衰变时间曲线\n",
    "\n",
    "加速器通过核反应生成原子核A，将其注入到塑料闪烁体探测器中测量$\\beta-$衰变。原子核A衰变到原子核B，原子核B衰变到稳定原子核C。A和B的半衰期分别为$T_{1/2A}=10 ms$, $T_{1/2B}=100 ms$。假设原子核A的平均生成率r为2个/s，探测器探测效率为100%.\n",
    "\n",
    "1. "
   ]
  },
  {
   "cell_type": "code",
   "execution_count": null,
   "metadata": {},
   "outputs": [],
   "source": []
  }
 ],
 "metadata": {
  "kernelspec": {
   "display_name": "ROOT C++",
   "language": "c++",
   "name": "root"
  },
  "language_info": {
   "codemirror_mode": "text/x-c++src",
   "file_extension": ".C",
   "mimetype": " text/x-c++src",
   "name": "c++"
  }
 },
 "nbformat": 4,
 "nbformat_minor": 4
}
